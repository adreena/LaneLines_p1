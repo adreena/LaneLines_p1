import math

def grayscale(img):
    """Applies the Grayscale transform
    This will return an image with only one color channel
    but NOTE: to see the returned image as grayscale
    (assuming your grayscaled image is called 'gray')
    you should call plt.imshow(gray, cmap='gray')"""
    return cv2.cvtColor(img, cv2.COLOR_RGB2GRAY)
    # Or use BGR2GRAY if you read an image with cv2.imread()
    # return cv2.cvtColor(img, cv2.COLOR_BGR2GRAY)
    
def canny(img, low_threshold, high_threshold):
    """Applies the Canny transform"""
    return cv2.Canny(img, low_threshold, high_threshold)

def gaussian_blur(img, kernel_size):
    """Applies a Gaussian Noise kernel"""
    return cv2.GaussianBlur(img, (kernel_size, kernel_size), 0)

def region_of_interest(img, vertices):
    """
    Applies an image mask.
    
    Only keeps the region of the image defined by the polygon
    formed from `vertices`. The rest of the image is set to black.
    """
    #defining a blank mask to start with
    mask = np.zeros_like(img)   
    
    #defining a 3 channel or 1 channel color to fill the mask with depending on the input image
    if len(img.shape) > 2:
        channel_count = img.shape[2]  # i.e. 3 or 4 depending on your image
        ignore_mask_color = (255,) * channel_count
    else:
        ignore_mask_color = 255
        
    #filling pixels inside the polygon defined by "vertices" with the fill color    
    cv2.fillPoly(mask, vertices, ignore_mask_color)
    
    #returning the image only where mask pixels are nonzero
    masked_image = cv2.bitwise_and(img, mask)
    return masked_image

def find_slope(x1,y1,x2,y2):
    return ((y2-y1)/(x2-x1))

def find_side(slope, avg_x, avg_y, x_mid_line):
    #to ignore outlires in each side, added a comparison to middle line x value
    if slope < 0 and avg_x <= x_mid_line: # and avg_y >=y_mid_line:
        return LEFT
    elif slope >0 and avg_x >= x_mid_line: # and avg_y>=y_mid_line:
        return RIGHT
    else:
        return
    
def filter(lines, threshold=6):
    
    difference = np.abs( lines[:,:4] - np.median( lines[:,:4]))
    median_difference = np.median(difference)
    if median_difference == 0:
        s = 0
    else:
        s = difference / float(median_difference)
    mask = s > threshold
    
    mask = np.append(mask, mask[:,3:4], axis=1)
    lines[mask] = np.median(lines[:,:4])
    return lines

def get_line_points(line, img):
    y_mid = img.shape[0] -150
    
    #1- find the longest line in collection
    line = line[line[:,4].argsort()]
    x1, y1,x2,y2, length= line[-1]
    
    #2- find coefficients of the longest line y = ax+b
    a, b = np.polyfit((x1,x2), (y1,y2), 1)

    #3- find a fit for lower point
    bottom_point = {'y':img.shape[0] ,'x':0}
    bottom_point['x'] = int((bottom_point['y'] - b )/a)

    #4- find the highest point, which is a point with the highest y
    x1, y1,x2,y2,length = np.amax(line, axis=0)
    
    #5- find a fit for upper point
    highest_y = min(y1,y2)
    diff = highest_y - y_mid
    # add some extra gap to make line longer
    highest_y=highest_y - diff
    top_point ={'y':highest_y, 'x':0}
    top_point['x'] = int((top_point['y'] - b )/a)
    
    return bottom_point, top_point

def draw_lines(img, lines, color=[255, 0, 0], thickness=10):
    """
    NOTE: this is the function you might want to use as a starting point once you want to
    average/extrapolate the line segments you detect to map out the full
    extent of the lane (going from the result shown in raw-lines-example.mp4
    to that shown in P1_example.mp4).

    Think about things like separating line segments by their
    slope ((y2-y1)/(x2-x1)) to decide which segments are part of the left
    line vs. the right line.  Then, you can average the position of each of
    the lines and extrapolate to the top and bottom of the lane.

    This function draws `lines` with `color` and `thickness`.
    Lines are drawn on the image inplace (mutates the image).
    If you want to make the lines semi-transparent, think about combining
    this function with the weighted_img() function below
    """
    left_line = np.empty((0,5), dtype=np.int32)
    right_line= np.empty((0,5), dtype=np.int32)
    
    x_mid_line = img.shape[1]/2
    for line in lines:
        for x1,y1,x2,y2 in line:
            avg_x = int((x1+x2)/2)
            avg_y = int((y1+y2)/2)
            length = int(math.sqrt((x2-x1)**2 + (y2-y1)**2))
            slope = find_slope(x1,y1,x2,y2)
            side=find_side(slope , avg_x, avg_y,x_mid_line)
            if  side == LEFT:
                left_line = np.append(left_line,np.array([[x1,y1,x2,y2,length]]), axis=0)
            elif side == RIGHT:
                right_line = np.append(right_line,np.array([[x1,y1,x2,y2,length]]), axis=0)

    left_line = filter(left_line)
    right_line = filter(right_line)
    
    # left line:
    if len(left_line) >0:
        bottom_point, top_point = get_line_points(left_line, img) 
        cv2.line(img, (top_point['x'],top_point['y']), (bottom_point['x'], bottom_point['y']), color, thickness)
    
    # right line:
    if len(right_line) >0:
        bottom_point, top_point = get_line_points(right_line, img) 
        cv2.line(img, (top_point['x'],top_point['y']), (bottom_point['x'], bottom_point['y']), color, thickness)

def hough_lines(img, rho, theta, threshold, min_line_len, max_line_gap):
    """
    `img` should be the output of a Canny transform.
        
    Returns an image with hough lines drawn.
    """
    lines = cv2.HoughLinesP(img, rho, theta, threshold, np.array([]), minLineLength=min_line_len, maxLineGap=max_line_gap)
    line_img = np.zeros((img.shape[0], img.shape[1], 3), dtype=np.uint8)
    draw_lines(line_img, lines)
    return line_img

# Python 3 has support for cool math symbols.

def weighted_img(img, initial_img, α=0.8, β=1., λ=0.):
    """
    `img` is the output of the hough_lines(), An image with lines drawn on it.
    Should be a blank image (all black) with lines drawn on it.
    
    `initial_img` should be the image before any processing.
    
    The result image is computed as follows:
    
    initial_img * α + img * β + λ
    NOTE: initial_img and img must be the same shape!
    """
    return cv2.addWeighted(initial_img, α, img, β, λ)
